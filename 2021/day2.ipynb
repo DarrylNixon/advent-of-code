{
 "cells": [
  {
   "cell_type": "markdown",
   "metadata": {},
   "source": [
    "# Day 2"
   ]
  },
  {
   "cell_type": "code",
   "execution_count": 1,
   "metadata": {},
   "outputs": [],
   "source": [
    "from itertools import tee, zip_longest, islice\n",
    "from collections.abc import Iterable\n",
    "from collections import namedtuple\n",
    "import aocd\n",
    "\n",
    "example_input = \"\"\"\\\n",
    "forward 5\n",
    "down 5\n",
    "forward 8\n",
    "up 3\n",
    "down 8\n",
    "forward 2\n",
    "\"\"\"\n",
    "\n",
    "example_p1, example_p2 = tee(zip_longest(*example_input.splitlines(), fillvalue=''))\n",
    "actual_p1, actual_p2 = tee(zip_longest(*aocd.get_data(day=2, year=2021).splitlines(), fillvalue=''))"
   ]
  },
  {
   "cell_type": "code",
   "execution_count": 2,
   "metadata": {},
   "outputs": [],
   "source": [
    "def nth(iterable: Iterable, n: int) -> islice:\n",
    "    return next(islice(iterable, n, None))\n",
    "\n",
    "def intize(it: Iterable[str], multiplier: int = 1) -> Iterable[int]:\n",
    "    for i in it:\n",
    "        if i.isdigit():\n",
    "            yield int(i) * multiplier\n",
    "        else:\n",
    "            yield 0\n",
    "\n",
    "Commands = namedtuple(\"Commands\", [\"up\", \"down\", \"forward\"])\n",
    "\n",
    "def get_opcodes(it: Iterable) -> Commands:\n",
    "    up = intize(nth(it, 3), multiplier=-1)\n",
    "    down = intize(nth(it, 1))\n",
    "    forward = intize(nth(it, 2))\n",
    "    return Commands(up, down, forward)"
   ]
  },
  {
   "cell_type": "markdown",
   "metadata": {},
   "source": [
    "## Part 1"
   ]
  },
  {
   "cell_type": "code",
   "execution_count": 3,
   "metadata": {},
   "outputs": [],
   "source": [
    "def part1(it: Iterable) -> int:\n",
    "    ops = get_opcodes(it)\n",
    "    return (sum(ops.down) + sum(ops.up)) * sum(ops.forward)\n",
    "\n",
    "assert part1(example_p1) == 150"
   ]
  },
  {
   "cell_type": "markdown",
   "metadata": {},
   "source": [
    "## Part 2"
   ]
  },
  {
   "cell_type": "code",
   "execution_count": 4,
   "metadata": {},
   "outputs": [],
   "source": [
    "def part2(it: Iterable) -> int:\n",
    "    ops = get_opcodes(it)\n",
    "    aim, depth, horizontal = 0, 0, 0\n",
    "    for up, down, forward in zip(*ops):\n",
    "        horizontal += forward\n",
    "        depth += (aim := aim + up + down) * forward\n",
    "    return horizontal * depth\n",
    "\n",
    "assert part2(example_p2) == 900"
   ]
  },
  {
   "cell_type": "code",
   "execution_count": 5,
   "metadata": {},
   "outputs": [
    {
     "name": "stdout",
     "output_type": "stream",
     "text": [
      "part1(actual_p1)=1670340\n",
      "part2(actual_p2)=1954293920\n"
     ]
    }
   ],
   "source": [
    "print(f\"{part1(actual_p1)=}\")\n",
    "print(f\"{part2(actual_p2)=}\")"
   ]
  }
 ],
 "metadata": {
  "interpreter": {
   "hash": "db84a9b5dd949a035ea7694caf6f1b5ae1f361089363a298d7c44e85c741f01e"
  },
  "kernelspec": {
   "display_name": "Python 3.9.1 64-bit",
   "language": "python",
   "name": "python3"
  },
  "language_info": {
   "codemirror_mode": {
    "name": "ipython",
    "version": 3
   },
   "file_extension": ".py",
   "mimetype": "text/x-python",
   "name": "python",
   "nbconvert_exporter": "python",
   "pygments_lexer": "ipython3",
   "version": "3.9.1"
  },
  "orig_nbformat": 4
 },
 "nbformat": 4,
 "nbformat_minor": 2
}
