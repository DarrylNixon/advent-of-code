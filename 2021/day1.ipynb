{
 "cells": [
  {
   "cell_type": "markdown",
   "metadata": {},
   "source": [
    "# Day 1"
   ]
  },
  {
   "cell_type": "code",
   "execution_count": 1,
   "metadata": {},
   "outputs": [],
   "source": [
    "from cytoolz.itertoolz import sliding_window\n",
    "from collections.abc import Iterable\n",
    "from itertools import tee\n",
    "import aocd\n",
    "\n",
    "example_input = \"\"\"\\\n",
    "199\n",
    "200\n",
    "208\n",
    "210\n",
    "200\n",
    "207\n",
    "240\n",
    "269\n",
    "260\n",
    "263\n",
    "\"\"\"\n",
    "\n",
    "example_p1, example_p2 = tee(map(int, example_input.splitlines()))\n",
    "actual_p1, actual_p2 = tee(map(int, aocd.get_data(day=1, year=2021).splitlines()))"
   ]
  },
  {
   "cell_type": "markdown",
   "metadata": {},
   "source": [
    "## Part 1"
   ]
  },
  {
   "cell_type": "code",
   "execution_count": 2,
   "metadata": {},
   "outputs": [],
   "source": [
    "def part1(it: Iterable) -> int:\n",
    "    return sum(b > a for a, b in sliding_window(2, it))\n",
    "\n",
    "assert part1(example_p1) == 7"
   ]
  },
  {
   "cell_type": "markdown",
   "metadata": {},
   "source": [
    "## Part 2"
   ]
  },
  {
   "cell_type": "code",
   "execution_count": 3,
   "metadata": {},
   "outputs": [],
   "source": [
    "def part2(it: Iterable) -> int:\n",
    "    sums = map(sum, sliding_window(3, it))\n",
    "    return part1(sums)\n",
    "\n",
    "assert part2(example_p2) == 5"
   ]
  },
  {
   "cell_type": "code",
   "execution_count": 4,
   "metadata": {},
   "outputs": [
    {
     "name": "stdout",
     "output_type": "stream",
     "text": [
      "part1(actual_p1)=1121\n",
      "part2(actual_p2)=1065\n"
     ]
    }
   ],
   "source": [
    "print(f\"{part1(actual_p1)=}\")\n",
    "print(f\"{part2(actual_p2)=}\")"
   ]
  }
 ],
 "metadata": {
  "interpreter": {
   "hash": "db84a9b5dd949a035ea7694caf6f1b5ae1f361089363a298d7c44e85c741f01e"
  },
  "kernelspec": {
   "display_name": "Python 3.9.1 64-bit",
   "language": "python",
   "name": "python3"
  },
  "language_info": {
   "codemirror_mode": {
    "name": "ipython",
    "version": 3
   },
   "file_extension": ".py",
   "mimetype": "text/x-python",
   "name": "python",
   "nbconvert_exporter": "python",
   "pygments_lexer": "ipython3",
   "version": "3.9.1"
  },
  "orig_nbformat": 4
 },
 "nbformat": 4,
 "nbformat_minor": 2
}
